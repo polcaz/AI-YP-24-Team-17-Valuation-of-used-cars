{
 "cells": [
  {
   "cell_type": "code",
   "execution_count": 1,
   "metadata": {
    "ExecuteTime": {
     "end_time": "2024-10-28T22:56:11.870043Z",
     "start_time": "2024-10-28T22:56:10.634151Z"
    }
   },
   "outputs": [],
   "source": [
    "import requests\n",
    "from bs4 import BeautifulSoup\n",
    "from tqdm.notebook import tqdm\n",
    "import numpy as np\n",
    "import random\n",
    "from datetime import date\n",
    "import time\n",
    "import pandas as pd\n",
    "\n",
    "\"\"\" Заполнили сведения из Headers при обращении к https://auto.ru/cars/used/ \n",
    "    (здесь указаны мои, полагаю, лучше использовать ваши)\n",
    "    Не забудьте внести cookies\"\"\"\n",
    "cookie = '_csrf_token=322d41e9006e0d84d35ea2ba160ffb0edcaf8bde6af076a0; suid=d5b39f92ec07e14b5ede65193afae8dd.b7a4c96080bd260714d8bcd31af9fb4a; autoruuid=g671fe5f02tuv4stgtm003ft6ufjgtuf.cf4d48bce1d92127b1dc5420a6c012d3; from=direct; autoru_sso_blocked=1; Session_id=3:1730143729.5.0.1729626845318:0EzFWw:1e52.1.2:1|1130000067438128.-1.0.3:1729626845|61:10026972.494636.G47KJoJnrGleXdU3AV1aAbBSOIE; sessar=1.1195.CiC4kiZ9xgGyA9EKYOSeDcPovH-CImZprpSTDFCpFXMUfQ.JxIZidV8vdomSfagoec4_A7vSfKJYsUeVx-hqv85aII; yandex_login=daboldyrev@edu.hse.ru; ys=udn.cDpkYWJvbGR5cmV2QGVkdS5oc2UucnU%3D#c_chck.1929241363; i=tlhDxtDyQeSf93G4Sd2jN8QeRk4YamYpZXEiLrhQS7CLpw0+5vhEzZB3fpv6+DoEc80kD0DF7VDIIgjCNuTIizOlOu8=; yandexuid=2160422051564510217; my=YwA=; L=Xy5fSWVnBHIJSEN2UVlaRQ5hWW9bXVoGIFYzOSssLABdEC9SECxcJxsSVytC.1729626845.15927.340609.84c416984beb9e0cf870a4d6f92acb61; mda2_beacon=1730143729098; sso_status=sso.passport.yandex.ru:synchronized; autoru_sso_redirect_blocked=1; _ym_uid=1684353637548378497; yaPassportTryAutologin=1; _ym_isad=2; autoru_sid=123729954%7C1730143739148.7776000.b4c5nf1yViUEOZ-QftLYSw.mUjU3EqWVT1cPoNPBDcE6l2ZGA5w6n6ifxDp-_Y12Pc; _yasc=+J+VIii3pr3WbEOhoe+sjg44LQZA886gpGdnqTZiAIEC+O3+kkAC+EqS5keXehajStIA; popups-popup-guess-the-car-shown-count=1; _ym_d=1730145169; count-visits=4; from_lifetime=1730145175566; layout-config={\"screen_height\":1080,\"screen_width\":1920,\"win_width\":334,\"win_height\":983}; cycada=Crddb5c+sUwEnCqwO6jVWnYzs+eP5+y9mEaD7l6eSdg='\n",
    "headers = {\n",
    "    'authority': 'auto.ru',\n",
    "    'method': 'GET',\n",
    "    'path': '/cars/used/',\n",
    "    'scheme': 'https',\n",
    "    'accept': 'text/html,application/xhtml+xml,application/xml;q=0.9,image/avif,image/webp,image/apng,*/*;q=0.8,application/signed-exchange;v=b3;q=0.7',\n",
    "    'accept-encoding': 'gzip, deflate, br, zstd',\n",
    "    'accept-language': 'ru,en;q=0.9,en-GB;q=0.8,en-US;q=0.7',\n",
    "    'cache-control': 'max-age=0',\n",
    "    'cookie': cookie,\n",
    "    'priority': 'u=0, i',\n",
    "    'sec-ch-ua': '\"Chromium\";v=\"130\", \"Microsoft Edge\";v=\"130\", \"Not?A_Brand\";v=\"99\"',\n",
    "    'sec-ch-ua-mobile': '?0',\n",
    "    'sec-ch-ua-platform':'\"Windows\"',\n",
    "    'sec-fetch-dest': 'document',\n",
    "    'sec-fetch-mode': 'navigate',\n",
    "    'sec-fetch-site': 'same-origin',\n",
    "    'sec-fetch-user': '?1',\n",
    "    'upgrade-insecure-requests': '1',\n",
    "    'user-agent': 'Mozilla/5.0 (Windows NT 10.0; Win64; x64) AppleWebKit/537.36 (KHTML, like Gecko) Chrome/130.0.0.0 Safari/537.36 Edg/130.0.0.0'\n",
    "}"
   ]
  },
  {
   "cell_type": "code",
   "execution_count": 2,
   "metadata": {
    "ExecuteTime": {
     "end_time": "2024-10-28T22:56:15.737618Z",
     "start_time": "2024-10-28T22:56:15.719038Z"
    }
   },
   "outputs": [],
   "source": [
    "def get_car(link):   \n",
    "    \n",
    "    \"\"\"Функция собирает сведения со странички объявления\"\"\"\n",
    "\n",
    "    url_car = link # записали ссылку\n",
    "\n",
    "    # загрузили страницу с данными по автомобилю\n",
    "    page_auto = requests.get(link, headers=headers)\n",
    "        \n",
    "    # создали дерево\n",
    "    soup_auto = BeautifulSoup(page_auto.content, 'html.parser')\n",
    "\n",
    "    # извлекли данные из блока CardBreadcrumbs\n",
    "    CardBreadcrums = soup_auto.find('div', {'class': 'CardBreadcrumbs'})\n",
    "    car_make = CardBreadcrums.find_all('a')[2].text\n",
    "    car_model = CardBreadcrums.find_all('a')[3].text\n",
    "    car_gen = CardBreadcrums.find_all('a')[4].text\n",
    "    car_type = CardBreadcrums.find_all('a')[5].text\n",
    "    car_compl = CardBreadcrums.find_all('a')[6].text\n",
    "\n",
    "    # извлекли данные об объявлении\n",
    "    ann_date = soup_auto.find('div', {'class': 'CardHead__infoItem CardHead__creationDate'}).text\n",
    "    ann_id = soup_auto.find('div', {'class': 'CardHead__infoItem CardHead__id'}).text\n",
    "    car_price = soup_auto.find('span', {'class': 'OfferPriceCaption__price'}).text.replace('\\xa0','')\n",
    "    ann_city = soup_auto.find('span', {'class': 'MetroListPlace__regionName MetroListPlace_nbsp'}).text\n",
    "        \n",
    "    # Нашли нужный блок с информацией, ищем только по нему, бережем ресурсы\n",
    "    card_info = soup_auto.find('div', {'class': 'CardInfo-ateuv'})\n",
    "\n",
    "    # записали ссылку на комплектацию\n",
    "    link_cpl = card_info.find('a').get('href')\n",
    "        \n",
    "    # извлекли сведения об автомобиле\n",
    "    avail = card_info.find('li', {'class': 'CardInfoRow CardInfoRow_availability'}).find_all('div')[1].text\n",
    "    year = card_info.find('li', {'class': 'CardInfoRow CardInfoRow_year'}).find_all('div')[1].text\n",
    "    mileage = card_info.find('li', {'class': 'CardInfoRow CardInfoRow_kmAge'}).find_all('div')[1].text\n",
    "    color = card_info.find('li', {'class': 'CardInfoRow CardInfoRow_color'}).find_all('div')[1].text\n",
    "    if card_info.find('li', {'class': 'CardInfoRow CardInfoRow_engine'}).find_all('div')[1].text.split(' / ')[2] == 'Электро':\n",
    "        eng_power, eng_power_kw, eng_type = card_info.find('li', {'class': 'CardInfoRow CardInfoRow_engine'}).find_all('div')[1].text.split(' / ')\n",
    "        eng_power_kw = int(eng_power_kw.replace('\\xa0',' ').split()[0])\n",
    "        eng_size = None\n",
    "        pow_resrv = card_info.find('li', {'class': 'CardInfoRow CardInfoRow_electricRange'}).find_all('div')[1].text.split()[0]\n",
    "    else:\n",
    "        eng_size, eng_power, eng_type = card_info.find('li', {'class': 'CardInfoRow CardInfoRow_engine'}).find_all('div')[1].text.split(' / ')\n",
    "        eng_size = float(eng_size.split()[0])\n",
    "        eng_power_kw = None\n",
    "        pow_resrv = None\n",
    "    options = card_info.find('li', {'class': 'CardInfoRow CardInfoRow_complectationOrEquipmentCount'}).find_all('div')[1].text\n",
    "    transmission = card_info.find('li', {'class': 'CardInfoRow CardInfoRow_transmission'}).find_all('div')[1].text\n",
    "    drive = card_info.find('li', {'class': 'CardInfoRow CardInfoRow_drive'}).find_all('div')[1].text\n",
    "    st_wheel= card_info.find('li', {'class': 'CardInfoRow CardInfoRow_wheel'}).find_all('div')[1].text\n",
    "    condition = card_info.find('li', {'class': 'CardInfoRow CardInfoRow_state'}).find_all('div')[1].text\n",
    "    count_owner = card_info.find('li', {'class': 'CardInfoRow CardInfoRow_ownersCount'}).find_all('div')[1].text\n",
    "    try:\n",
    "        original_pts = card_info.find('li', {'class': 'CardInfoRow CardInfoRow_pts'}).find_all('div')[1].text\n",
    "    except:\n",
    "        original_pts = None\n",
    "    try:\n",
    "        customs = card_info.find('li', {'class': 'CardInfoRow CardInfoRow_customs'}).find_all('div')[1].text\n",
    "    except:\n",
    "        customs = None\n",
    "\n",
    "    # подготовили словарь для месяцев\n",
    "    dict_month = {\n",
    "        'января': 1,\n",
    "        'февраля': 2,\n",
    "        'марта': 3,\n",
    "        'апреля': 4,\n",
    "        'мая': 5,\n",
    "        'июня': 6,\n",
    "        'июля': 7,\n",
    "        'августа': 8,\n",
    "        'сентября': 9,\n",
    "        'октября': 10,\n",
    "        'ноября': 11,\n",
    "        'декабря':12\n",
    "    }\n",
    "\n",
    "    # записали данные в словарь\n",
    "    row = {\n",
    "        'url_car': url_car,\n",
    "        'car_make': car_make,\n",
    "        'car_model': car_model,\n",
    "        'car_gen': car_gen,\n",
    "        'car_type': car_type,\n",
    "        'car_compl': car_compl,\n",
    "        'ann_date': str(date(2024, dict_month[ann_date.split()[1]], int(ann_date.split()[0]))),\n",
    "        'ann_id': ann_id[2:],\n",
    "        'car_price': int(car_price[:-1]),\n",
    "        'ann_city': ann_city,\n",
    "        'link_cpl': link_cpl,\n",
    "        'avail': avail.replace('\\xa0',' '),\n",
    "        'year': int(year),\n",
    "        'mileage': int(mileage.replace('\\xa0','')[:-3]),\n",
    "        'color': color,\n",
    "        'eng_size': eng_size,\n",
    "        'eng_power': int(eng_power.replace('\\xa0',' ').split()[0]),\n",
    "        'eng_power_kw': eng_power_kw,\n",
    "        'eng_type': eng_type,\n",
    "        'pow_resrv': pow_resrv,\n",
    "        'options': options.replace('\\xa0',' '),\n",
    "        'transmission': transmission,\n",
    "        'drive': drive,\n",
    "        'st_wheel': st_wheel,\n",
    "        'condition': condition,\n",
    "        'count_owner': count_owner.replace('\\xa0',' '),\n",
    "        'original_pts': original_pts,\n",
    "        'customs': customs\n",
    "        }\n",
    "    \n",
    "    # передаем словарь\n",
    "    return row\n"
   ]
  },
  {
   "cell_type": "code",
   "execution_count": 3,
   "metadata": {
    "ExecuteTime": {
     "end_time": "2024-10-28T22:56:24.928415Z",
     "start_time": "2024-10-28T22:56:24.921071Z"
    }
   },
   "outputs": [],
   "source": [
    "def get_page(filtered_url, p):\n",
    "\n",
    "    \"\"\" Функция собирает ссылки на авто со странички \n",
    "        и запускает функцию сбора информации по каждому найденному объявлению\"\"\"\n",
    "\n",
    "    # изготовили ссылку на страницу списка с объявлениями\n",
    "    if p != 1:\n",
    "        url = f'{filtered_url}&page={p}'\n",
    "    else:\n",
    "        url = filtered_url\n",
    "\n",
    "    # сходили по ней\n",
    "    page_list = requests.get(url, headers=headers)\n",
    "\n",
    "    # построили дерево\n",
    "    soup = BeautifulSoup(page_list.content, 'html.parser')\n",
    "\n",
    "    # нашли в нём ссылки на авто, записали в список\n",
    "    urls = []\n",
    "    for link in soup.find_all('a'):\n",
    "        if link.get('href') != None and 'cars/used/sale' in link.get('href')  and link.get('href') not in urls:\n",
    "            urls.append(link.get('href'))\n",
    "\n",
    "    # прошли по ссылкам записали данные в список словарей\n",
    "    info = []\n",
    "    mistakes = []\n",
    "    random_seconds = [3, 5, 7, 10, 12, 15]\n",
    "    for link in tqdm(urls):\n",
    "        time.sleep(random.choice(random_seconds)) # немного подождали\n",
    "        try:\n",
    "            info.append(get_car(link))\n",
    "        except:\n",
    "            print(f'Ошибка при загрузке страницы: {link}')\n",
    "            mistakes.append(link)\n",
    "\n",
    "    return info"
   ]
  },
  {
   "cell_type": "code",
   "outputs": [
    {
     "data": {
      "text/plain": "         mark                                  filter  amount  \\\n0  Lada (ВАЗ)  1111 Ока, 2101, 2102, 2103, 2104, 2105    3116   \n1  Lada (ВАЗ)                  2106, 2108, 2109, 2111    3628   \n2  Lada (ВАЗ)          2107, 2120 Надежда, 2123, 2329    3534   \n3  Lada (ВАЗ)                             21099, 2112    3562   \n4  Lada (ВАЗ)                              2110, 2113    3580   \n\n                                                 ref  suffix  \n0  https://auto.ru/cars/used/?catalog_filter=mark...  &page=  \n1  https://auto.ru/cars/used/?catalog_filter=mark...  &page=  \n2  https://auto.ru/cars/used/?catalog_filter=mark...  &page=  \n3  https://auto.ru/cars/used/?catalog_filter=mark...  &page=  \n4  https://auto.ru/cars/used/?catalog_filter=mark...  &page=  ",
      "text/html": "<div>\n<style scoped>\n    .dataframe tbody tr th:only-of-type {\n        vertical-align: middle;\n    }\n\n    .dataframe tbody tr th {\n        vertical-align: top;\n    }\n\n    .dataframe thead th {\n        text-align: right;\n    }\n</style>\n<table border=\"1\" class=\"dataframe\">\n  <thead>\n    <tr style=\"text-align: right;\">\n      <th></th>\n      <th>mark</th>\n      <th>filter</th>\n      <th>amount</th>\n      <th>ref</th>\n      <th>suffix</th>\n    </tr>\n  </thead>\n  <tbody>\n    <tr>\n      <th>0</th>\n      <td>Lada (ВАЗ)</td>\n      <td>1111 Ока, 2101, 2102, 2103, 2104, 2105</td>\n      <td>3116</td>\n      <td>https://auto.ru/cars/used/?catalog_filter=mark...</td>\n      <td>&amp;page=</td>\n    </tr>\n    <tr>\n      <th>1</th>\n      <td>Lada (ВАЗ)</td>\n      <td>2106, 2108, 2109, 2111</td>\n      <td>3628</td>\n      <td>https://auto.ru/cars/used/?catalog_filter=mark...</td>\n      <td>&amp;page=</td>\n    </tr>\n    <tr>\n      <th>2</th>\n      <td>Lada (ВАЗ)</td>\n      <td>2107, 2120 Надежда, 2123, 2329</td>\n      <td>3534</td>\n      <td>https://auto.ru/cars/used/?catalog_filter=mark...</td>\n      <td>&amp;page=</td>\n    </tr>\n    <tr>\n      <th>3</th>\n      <td>Lada (ВАЗ)</td>\n      <td>21099, 2112</td>\n      <td>3562</td>\n      <td>https://auto.ru/cars/used/?catalog_filter=mark...</td>\n      <td>&amp;page=</td>\n    </tr>\n    <tr>\n      <th>4</th>\n      <td>Lada (ВАЗ)</td>\n      <td>2110, 2113</td>\n      <td>3580</td>\n      <td>https://auto.ru/cars/used/?catalog_filter=mark...</td>\n      <td>&amp;page=</td>\n    </tr>\n  </tbody>\n</table>\n</div>"
     },
     "execution_count": 4,
     "metadata": {},
     "output_type": "execute_result"
    }
   ],
   "source": [
    "pages_to_scrap = pd.read_excel('pages_to_scrap.xlsx', engine='openpyxl')\n",
    "pages_to_scrap.head()"
   ],
   "metadata": {
    "collapsed": false,
    "ExecuteTime": {
     "end_time": "2024-10-28T22:56:34.626317Z",
     "start_time": "2024-10-28T22:56:34.339547Z"
    }
   },
   "execution_count": 4
  },
  {
   "cell_type": "code",
   "execution_count": null,
   "metadata": {
    "is_executing": true,
    "ExecuteTime": {
     "start_time": "2024-10-28T23:00:57.311897Z"
    }
   },
   "outputs": [
    {
     "data": {
      "text/plain": "  0%|          | 0/39 [00:00<?, ?it/s]",
      "application/vnd.jupyter.widget-view+json": {
       "version_major": 2,
       "version_minor": 0,
       "model_id": "c7273e5278364ba3ba19c7524296dd96"
      }
     },
     "metadata": {},
     "output_type": "display_data"
    },
    {
     "data": {
      "text/plain": "  0%|          | 0/84 [00:00<?, ?it/s]",
      "application/vnd.jupyter.widget-view+json": {
       "version_major": 2,
       "version_minor": 0,
       "model_id": "01a2ea94971045f08ad37aead84f6784"
      }
     },
     "metadata": {},
     "output_type": "display_data"
    },
    {
     "data": {
      "text/plain": "  0%|          | 0/38 [00:00<?, ?it/s]",
      "application/vnd.jupyter.widget-view+json": {
       "version_major": 2,
       "version_minor": 0,
       "model_id": "97f7433e2e4a45389daef03d7062c87d"
      }
     },
     "metadata": {},
     "output_type": "display_data"
    }
   ],
   "source": [
    "for i  in tqdm(range(0, pages_to_scrap.shape[0])):\n",
    "    url_to_scrap = pages_to_scrap['ref'][i]\n",
    "    max_page = int(pages_to_scrap['amount'][i] // 37 + 1)\n",
    "    # записали сведения в лог\n",
    "    with open('log.txt', 'a') as log:\n",
    "        print(f'Фильтр {url_to_scrap}\\nстраниц {max_page}, записей {pages_to_scrap['amount'][i]}', file=log)    \n",
    "    for page in tqdm(range(1, max_page)):\n",
    "        try:\n",
    "            date_page = get_page(url_to_scrap, page)\n",
    "            # дописали данные в файл\n",
    "            with open('data.txt', 'a') as data:\n",
    "                for record in date_page:\n",
    "                    print(record, file=data)\n",
    "            # записали сведения в лог\n",
    "            with open('log.txt', 'a') as log:\n",
    "                print(f'Успешно загружена страница {page}. Число добавленных записей {len(date_page)}',\n",
    "                file=log)\n",
    "        except:\n",
    "            # записали сведения в лог\n",
    "            with open('log.txt', 'a') as log:\n",
    "                print(f'Не была загружена страница {page}. Число добавленных записей {0}', file=log)\n",
    "        \n",
    "        # закрыли файлы\n",
    "        data.close()\n",
    "    log.close()"
   ]
  },
  {
   "cell_type": "code",
   "execution_count": 7,
   "metadata": {
    "ExecuteTime": {
     "end_time": "2024-10-28T20:25:19.774117Z",
     "start_time": "2024-10-28T20:25:19.761933Z"
    }
   },
   "outputs": [
    {
     "data": {
      "text/plain": "{'url_car': 'https://auto.ru/cars/used/sale/ford/focus/1124411293-618720a3/',\n 'car_make': 'Ford',\n 'car_model': 'Focus',\n 'car_gen': 'II Рестайлинг',\n 'car_type': 'Седан',\n 'car_compl': '1.8 MT (125 л.с.)',\n 'ann_date': '2024-08-03',\n 'ann_id': '1124411293',\n 'car_price': 1050000,\n 'ann_city': 'Краснодар',\n 'link_cpl': 'https://auto.ru/catalog/cars/ford/focus/2306579/2306701/specifications/2306701_20192891_2306706/',\n 'avail': 'В наличии',\n 'year': 2010,\n 'mileage': 162456,\n 'color': 'серый',\n 'eng_size': 1.8,\n 'eng_power': 125,\n 'eng_power_kw': None,\n 'eng_type': 'Бензин',\n 'pow_resrv': None,\n 'options': 'Titanium',\n 'transmission': 'механическая',\n 'drive': 'передний',\n 'st_wheel': 'Левый',\n 'condition': 'Не требует ремонта',\n 'count_owner': '2 владельца',\n 'original_pts': 'Оригинал',\n 'customs': 'Растаможен'}"
     },
     "execution_count": 7,
     "metadata": {},
     "output_type": "execute_result"
    }
   ],
   "source": [
    "# Смотрим на пример того, что приходит\n",
    "date_page[1]"
   ]
  },
  {
   "cell_type": "code",
   "outputs": [],
   "source": [],
   "metadata": {
    "collapsed": false
   }
  }
 ],
 "metadata": {
  "kernelspec": {
   "display_name": "Python 3",
   "language": "python",
   "name": "python3"
  },
  "language_info": {
   "codemirror_mode": {
    "name": "ipython",
    "version": 3
   },
   "file_extension": ".py",
   "mimetype": "text/x-python",
   "name": "python",
   "nbconvert_exporter": "python",
   "pygments_lexer": "ipython3",
   "version": "3.12.6"
  }
 },
 "nbformat": 4,
 "nbformat_minor": 2
}
